{
 "cells": [
  {
   "cell_type": "code",
   "execution_count": 25,
   "metadata": {},
   "outputs": [],
   "source": [
    "import threading\n",
    "import time"
   ]
  },
  {
   "cell_type": "code",
   "execution_count": 27,
   "metadata": {},
   "outputs": [],
   "source": [
    "THREADS_COUNT = 5"
   ]
  },
  {
   "cell_type": "code",
   "execution_count": 2,
   "metadata": {},
   "outputs": [],
   "source": [
    "def sample(name, num):\n",
    "    for idx in range(1, num+1):\n",
    "        print(f'{name} was called {idx} times')"
   ]
  },
  {
   "cell_type": "code",
   "execution_count": 3,
   "metadata": {},
   "outputs": [
    {
     "name": "stdout",
     "output_type": "stream",
     "text": [
      "cell-2 was called 1 times\n",
      "cell-2 was called 2 times\n",
      "cell-2 was called 3 times\n",
      "cell-2 was called 4 times\n",
      "cell-2 was called 5 times\n"
     ]
    }
   ],
   "source": [
    "sample('cell-2', 5)"
   ]
  },
  {
   "cell_type": "code",
   "execution_count": 15,
   "metadata": {},
   "outputs": [
    {
     "name": "stdout",
     "output_type": "stream",
     "text": [
      "thread was called 1 times\n",
      "thread was called 2 times\n",
      "cell-2 was called 1 timesthread was called 3 times\n",
      "thread was called 4 times\n",
      "thread was called 5 times\n",
      "thread was called 6 times\n",
      "thread was called 7 times\n",
      "cell-2 was called 2 times\n",
      "cell-2 was called 3 times\n",
      "cell-2 was called 4 times\n",
      "thread was called 8 times\n",
      "thread was called 9 times\n",
      "thread was called 10 times\n",
      "\n",
      "cell-2 was called 5 times\n"
     ]
    }
   ],
   "source": [
    "thread = threading.Thread(target=sample, args=(\"thread\", 10))\n",
    "thread.start()\n",
    "sample('cell-2', 5)"
   ]
  },
  {
   "cell_type": "code",
   "execution_count": 30,
   "metadata": {},
   "outputs": [
    {
     "name": "stdout",
     "output_type": "stream",
     "text": [
      "thread-2 was called 1 times\n",
      "thread-3 was called 1 times\n",
      "thread-0 was called 1 times\n",
      "thread-1 was called 1 times\n",
      "thread-4 was called 1 times\n",
      "thread-2 was called 2 times\n",
      "thread-3 was called 2 times\n",
      "thread-0 was called 2 times\n",
      "thread-1 was called 2 times\n",
      "thread-4 was called 2 times\n",
      "thread-2 was called 3 times\n",
      "thread-3 was called 3 times\n",
      "thread-0 was called 3 times\n",
      "thread-1 was called 3 times\n",
      "thread-4 was called 3 times\n",
      "thread-2 was called 4 times\n",
      "thread-3 was called 4 times\n",
      "thread-1 was called 4 times\n",
      "thread-4 was called 4 times\n",
      "thread-2 was called 5 times\n",
      "thread-3 was called 5 times\n",
      "thread-4 was called 5 times\n",
      "thread-3 was called 6 times\n",
      "thread-4 was called 6 times\n",
      "thread-4 was called 7 times\n"
     ]
    }
   ],
   "source": [
    "for idx in range(5):\n",
    "    num = 3 + idx\n",
    "    name = f'thread-{idx}'\n",
    "    thread = threading.Thread(target=sample, args=(name, num))\n",
    "    thread.start()"
   ]
  },
  {
   "cell_type": "code",
   "execution_count": 24,
   "metadata": {},
   "outputs": [],
   "source": [
    "lock = threading.Lock()"
   ]
  },
  {
   "cell_type": "code",
   "execution_count": 29,
   "metadata": {},
   "outputs": [],
   "source": [
    "def sample(name, num):\n",
    "    for idx in range(1, num+1):\n",
    "        time.sleep(1)\n",
    "        lock.acquire()\n",
    "        print(f'{name} was called {idx} times')\n",
    "        lock.release()"
   ]
  },
  {
   "cell_type": "code",
   "execution_count": null,
   "metadata": {},
   "outputs": [],
   "source": [
    "for idx in range(5):\n",
    "    num = 3 + idx\n",
    "    name = f'thread-{idx}'\n",
    "    thread = threading.Thread(target=sample, args=(name, num))\n",
    "    thread.start()"
   ]
  }
 ],
 "metadata": {
  "kernelspec": {
   "display_name": "Python 3",
   "language": "python",
   "name": "python3"
  },
  "language_info": {
   "codemirror_mode": {
    "name": "ipython",
    "version": 3
   },
   "file_extension": ".py",
   "mimetype": "text/x-python",
   "name": "python",
   "nbconvert_exporter": "python",
   "pygments_lexer": "ipython3",
   "version": "3.7.1"
  }
 },
 "nbformat": 4,
 "nbformat_minor": 2
}
