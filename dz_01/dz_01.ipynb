{
 "cells": [
  {
   "cell_type": "markdown",
   "metadata": {},
   "source": [
    "#### 1. Каждое из слов «разработка», «сокет», «декоратор» представить в строковом формате и проверить тип и содержание соответствующих переменных. Затем с помощью онлайн-конвертера преобразовать строковые представление в формат Unicode и также проверить тип и содержимое переменных.\n"
   ]
  },
  {
   "cell_type": "code",
   "execution_count": 1,
   "metadata": {},
   "outputs": [
    {
     "name": "stdout",
     "output_type": "stream",
     "text": [
      "Word: разработка\n",
      "Type(word): <class 'str'>\n",
      "Word.encode(): b'\\xd1\\x80\\xd0\\xb0\\xd0\\xb7\\xd1\\x80\\xd0\\xb0\\xd0\\xb1\\xd0\\xbe\\xd1\\x82\\xd0\\xba\\xd0\\xb0'\n",
      "\n",
      "Word from online converter: разработка\n",
      "Type(Word from online converter): <class 'str'>\n",
      "Word from online converter.encode(): b'\\xd1\\x80\\xd0\\xb0\\xd0\\xb7\\xd1\\x80\\xd0\\xb0\\xd0\\xb1\\xd0\\xbe\\xd1\\x82\\xd0\\xba\\xd0\\xb0'\n",
      "\n",
      "Word == Word from online converter: True\n"
     ]
    }
   ],
   "source": [
    "word = \"разработка\"\n",
    "print(f\"Word: {word}\")\n",
    "print(f\"Type(word): {type(word)}\")\n",
    "print(f\"Word.encode(): {word.encode()}\")\n",
    "print()\n",
    "\n",
    "word_from_online_converter = \"\\u0440\\u0430\\u0437\\u0440\\u0430\\u0431\\u043e\\u0442\\u043a\\u0430\"\n",
    "\n",
    "print(f\"Word from online converter: {word_from_online_converter}\")\n",
    "print(f\"Type(Word from online converter): {type(word_from_online_converter)}\")\n",
    "print(f\"Word from online converter.encode(): {word_from_online_converter.encode()}\")\n",
    "print()\n",
    "\n",
    "print(f\"Word == Word from online converter: {word == word_from_online_converter}\")"
   ]
  },
  {
   "cell_type": "code",
   "execution_count": 2,
   "metadata": {},
   "outputs": [
    {
     "name": "stdout",
     "output_type": "stream",
     "text": [
      "Word: сокет\n",
      "Type(word): <class 'str'>\n",
      "Word.encode(): b'\\xd1\\x81\\xd0\\xbe\\xd0\\xba\\xd0\\xb5\\xd1\\x82'\n",
      "\n",
      "Word from online converter: сокет\n",
      "Type(Word from online converter): <class 'str'>\n",
      "Word from online converter.encode(): b'\\xd1\\x81\\xd0\\xbe\\xd0\\xba\\xd0\\xb5\\xd1\\x82'\n",
      "\n",
      "Word == Word from online converter: True\n"
     ]
    }
   ],
   "source": [
    "word = \"сокет\"\n",
    "print(f\"Word: {word}\")\n",
    "print(f\"Type(word): {type(word)}\")\n",
    "print(f\"Word.encode(): {word.encode()}\")\n",
    "print()\n",
    "\n",
    "word_from_online_converter = \"\\u0441\\u043e\\u043a\\u0435\\u0442\"\n",
    "\n",
    "print(f\"Word from online converter: {word_from_online_converter}\")\n",
    "print(f\"Type(Word from online converter): {type(word_from_online_converter)}\")\n",
    "print(f\"Word from online converter.encode(): {word_from_online_converter.encode()}\")\n",
    "print()\n",
    "\n",
    "print(f\"Word == Word from online converter: {word == word_from_online_converter}\")"
   ]
  },
  {
   "cell_type": "code",
   "execution_count": 3,
   "metadata": {},
   "outputs": [
    {
     "name": "stdout",
     "output_type": "stream",
     "text": [
      "Word: декоратор\n",
      "Type(word): <class 'str'>\n",
      "Word.encode(): b'\\xd0\\xb4\\xd0\\xb5\\xd0\\xba\\xd0\\xbe\\xd1\\x80\\xd0\\xb0\\xd1\\x82\\xd0\\xbe\\xd1\\x80'\n",
      "\n",
      "Word from online converter: декоратор\n",
      "Type(Word from online converter): <class 'str'>\n",
      "Word from online converter.encode(): b'\\xd0\\xb4\\xd0\\xb5\\xd0\\xba\\xd0\\xbe\\xd1\\x80\\xd0\\xb0\\xd1\\x82\\xd0\\xbe\\xd1\\x80'\n",
      "\n",
      "Word == Word from online converter: True\n"
     ]
    }
   ],
   "source": [
    "word = \"декоратор\"\n",
    "print(f\"Word: {word}\")\n",
    "print(f\"Type(word): {type(word)}\")\n",
    "print(f\"Word.encode(): {word.encode()}\")\n",
    "print()\n",
    "\n",
    "word_from_online_converter = \"\\u0434\\u0435\\u043a\\u043e\\u0440\\u0430\\u0442\\u043e\\u0440\"\n",
    "\n",
    "print(f\"Word from online converter: {word_from_online_converter}\")\n",
    "print(f\"Type(Word from online converter): {type(word_from_online_converter)}\")\n",
    "print(f\"Word from online converter.encode(): {word_from_online_converter.encode()}\")\n",
    "print()\n",
    "\n",
    "print(f\"Word == Word from online converter: {word == word_from_online_converter}\")"
   ]
  },
  {
   "cell_type": "code",
   "execution_count": null,
   "metadata": {},
   "outputs": [],
   "source": []
  },
  {
   "cell_type": "markdown",
   "metadata": {},
   "source": [
    "#### 2. Каждое из слов «class», «function», «method» записать в байтовом типе без преобразования в последовательность кодов (не используя методы encode и decode) и определить тип, содержимое и длину соответствующих переменных.\n"
   ]
  },
  {
   "cell_type": "code",
   "execution_count": 4,
   "metadata": {},
   "outputs": [
    {
     "name": "stdout",
     "output_type": "stream",
     "text": [
      "b'class'\n",
      "<class 'bytes'>\n",
      "5\n"
     ]
    }
   ],
   "source": [
    "word = b\"class\"\n",
    "print(word)\n",
    "print(type(word))\n",
    "print(len(word))"
   ]
  },
  {
   "cell_type": "code",
   "execution_count": 5,
   "metadata": {},
   "outputs": [
    {
     "name": "stdout",
     "output_type": "stream",
     "text": [
      "b'function'\n",
      "<class 'bytes'>\n",
      "8\n"
     ]
    }
   ],
   "source": [
    "word = b\"function\"\n",
    "print(word)\n",
    "print(type(word))\n",
    "print(len(word))"
   ]
  },
  {
   "cell_type": "code",
   "execution_count": 6,
   "metadata": {},
   "outputs": [
    {
     "name": "stdout",
     "output_type": "stream",
     "text": [
      "b'method'\n",
      "<class 'bytes'>\n",
      "6\n"
     ]
    }
   ],
   "source": [
    "word = b\"method\"\n",
    "print(word)\n",
    "print(type(word))\n",
    "print(len(word))"
   ]
  },
  {
   "cell_type": "code",
   "execution_count": null,
   "metadata": {},
   "outputs": [],
   "source": []
  },
  {
   "cell_type": "markdown",
   "metadata": {},
   "source": [
    "#### 3. Определить, какие из слов «attribute», «класс», «функция», «type» невозможно записать в байтовом типе.\n"
   ]
  },
  {
   "cell_type": "code",
   "execution_count": 7,
   "metadata": {},
   "outputs": [
    {
     "name": "stdout",
     "output_type": "stream",
     "text": [
      "b'attribute'\n",
      "b'attribute'\n"
     ]
    }
   ],
   "source": [
    "word = b'attribute'\n",
    "print(word)\n",
    "print(\"attribute\".encode())"
   ]
  },
  {
   "cell_type": "code",
   "execution_count": 8,
   "metadata": {},
   "outputs": [
    {
     "ename": "SyntaxError",
     "evalue": "bytes can only contain ASCII literal characters. (<ipython-input-8-e8669835fcb2>, line 1)",
     "output_type": "error",
     "traceback": [
      "\u001b[1;36m  File \u001b[1;32m\"<ipython-input-8-e8669835fcb2>\"\u001b[1;36m, line \u001b[1;32m1\u001b[0m\n\u001b[1;33m    word = b'класс'\u001b[0m\n\u001b[1;37m          ^\u001b[0m\n\u001b[1;31mSyntaxError\u001b[0m\u001b[1;31m:\u001b[0m bytes can only contain ASCII literal characters.\n"
     ]
    }
   ],
   "source": [
    "word = b'класс'\n",
    "print(word)\n",
    "print(\"класс\".encode())"
   ]
  },
  {
   "cell_type": "code",
   "execution_count": 9,
   "metadata": {},
   "outputs": [
    {
     "ename": "SyntaxError",
     "evalue": "bytes can only contain ASCII literal characters. (<ipython-input-9-43576eb38974>, line 1)",
     "output_type": "error",
     "traceback": [
      "\u001b[1;36m  File \u001b[1;32m\"<ipython-input-9-43576eb38974>\"\u001b[1;36m, line \u001b[1;32m1\u001b[0m\n\u001b[1;33m    word = b'функция'\u001b[0m\n\u001b[1;37m          ^\u001b[0m\n\u001b[1;31mSyntaxError\u001b[0m\u001b[1;31m:\u001b[0m bytes can only contain ASCII literal characters.\n"
     ]
    }
   ],
   "source": [
    "word = b'функция'\n",
    "print(word)\n",
    "print(\"функция\".encode())"
   ]
  },
  {
   "cell_type": "code",
   "execution_count": 10,
   "metadata": {},
   "outputs": [
    {
     "name": "stdout",
     "output_type": "stream",
     "text": [
      "b'type'\n",
      "b'type'\n"
     ]
    }
   ],
   "source": [
    "word = b'type'\n",
    "print(word)\n",
    "print(\"type\".encode())"
   ]
  },
  {
   "cell_type": "code",
   "execution_count": null,
   "metadata": {},
   "outputs": [],
   "source": []
  },
  {
   "cell_type": "code",
   "execution_count": null,
   "metadata": {},
   "outputs": [],
   "source": []
  },
  {
   "cell_type": "markdown",
   "metadata": {},
   "source": [
    "#### 4. Преобразовать слова «разработка», «администрирование», «protocol», «standard» из строкового представления в байтовое и выполнить обратное преобразование (используя методы encode и decode).\n"
   ]
  },
  {
   "cell_type": "code",
   "execution_count": 11,
   "metadata": {},
   "outputs": [
    {
     "name": "stdout",
     "output_type": "stream",
     "text": [
      "разработка\n",
      "разработка\n"
     ]
    }
   ],
   "source": [
    "word = \"разработка\"\n",
    "bytes_string = word.encode()\n",
    "decoded_string = bytes_string.decode()\n",
    "print(word)\n",
    "print(decoded_string)"
   ]
  },
  {
   "cell_type": "code",
   "execution_count": 12,
   "metadata": {},
   "outputs": [
    {
     "name": "stdout",
     "output_type": "stream",
     "text": [
      "администрирование\n",
      "администрирование\n"
     ]
    }
   ],
   "source": [
    "word = \"администрирование\"\n",
    "bytes_string = word.encode()\n",
    "decoded_string = bytes_string.decode()\n",
    "print(word)\n",
    "print(decoded_string)"
   ]
  },
  {
   "cell_type": "code",
   "execution_count": 13,
   "metadata": {},
   "outputs": [
    {
     "name": "stdout",
     "output_type": "stream",
     "text": [
      "protocol\n",
      "protocol\n"
     ]
    }
   ],
   "source": [
    "word = \"protocol\"\n",
    "bytes_string = word.encode()\n",
    "decoded_string = bytes_string.decode()\n",
    "print(word)\n",
    "print(decoded_string)"
   ]
  },
  {
   "cell_type": "code",
   "execution_count": 14,
   "metadata": {},
   "outputs": [
    {
     "name": "stdout",
     "output_type": "stream",
     "text": [
      "standard\n",
      "standard\n"
     ]
    }
   ],
   "source": [
    "word = \"standard\"\n",
    "bytes_string = word.encode()\n",
    "decoded_string = bytes_string.decode()\n",
    "print(word)\n",
    "print(decoded_string)"
   ]
  },
  {
   "cell_type": "code",
   "execution_count": null,
   "metadata": {},
   "outputs": [],
   "source": []
  },
  {
   "cell_type": "code",
   "execution_count": null,
   "metadata": {},
   "outputs": [],
   "source": []
  },
  {
   "cell_type": "markdown",
   "metadata": {},
   "source": [
    "#### 5. Выполнить пинг веб-ресурсов yandex.ru, youtube.com и преобразовать результаты из байтовового в строковый тип на кириллице.\n"
   ]
  },
  {
   "cell_type": "code",
   "execution_count": 15,
   "metadata": {},
   "outputs": [],
   "source": [
    "import subprocess\n",
    "import chardet"
   ]
  },
  {
   "cell_type": "code",
   "execution_count": 16,
   "metadata": {},
   "outputs": [],
   "source": [
    "ping_results = subprocess.check_output([\"ping\", \"yandex.ru\"])"
   ]
  },
  {
   "cell_type": "code",
   "execution_count": 17,
   "metadata": {},
   "outputs": [
    {
     "data": {
      "text/plain": [
       "{'encoding': 'IBM866', 'confidence': 0.9783376676395532, 'language': 'Russian'}"
      ]
     },
     "execution_count": 17,
     "metadata": {},
     "output_type": "execute_result"
    }
   ],
   "source": [
    "chardet.detect(ping_results)"
   ]
  },
  {
   "cell_type": "code",
   "execution_count": 18,
   "metadata": {},
   "outputs": [
    {
     "data": {
      "text/plain": [
       "'IBM866'"
      ]
     },
     "execution_count": 18,
     "metadata": {},
     "output_type": "execute_result"
    }
   ],
   "source": [
    "chardet.detect(ping_results)[\"encoding\"]"
   ]
  },
  {
   "cell_type": "code",
   "execution_count": 19,
   "metadata": {},
   "outputs": [
    {
     "data": {
      "text/plain": [
       "'\\r\\nОбмен пакетами с yandex.ru [77.88.55.60] с 32 байтами данных:\\r\\nОтвет от 77.88.55.60: число байт=32 время=48мс TTL=57\\r\\nОтвет от 77.88.55.60: число байт=32 время=47мс TTL=57\\r\\nОтвет от 77.88.55.60: число байт=32 время=47мс TTL=57\\r\\nОтвет от 77.88.55.60: число байт=32 время=48мс TTL=57\\r\\n\\r\\nСтатистика Ping для 77.88.55.60:\\r\\n    Пакетов: отправлено = 4, получено = 4, потеряно = 0\\r\\n    (0% потерь)\\r\\nПриблизительное время приема-передачи в мс:\\r\\n    Минимальное = 47мсек, Максимальное = 48 мсек, Среднее = 47 мсек\\r\\n'"
      ]
     },
     "execution_count": 19,
     "metadata": {},
     "output_type": "execute_result"
    }
   ],
   "source": [
    "ping_results.decode(chardet.detect(ping_results)[\"encoding\"])"
   ]
  },
  {
   "cell_type": "code",
   "execution_count": 20,
   "metadata": {},
   "outputs": [
    {
     "name": "stdout",
     "output_type": "stream",
     "text": [
      "\r\n",
      "Обмен пакетами с yandex.ru [77.88.55.60] с 32 байтами данных:\r\n",
      "Ответ от 77.88.55.60: число байт=32 время=48мс TTL=57\r\n",
      "Ответ от 77.88.55.60: число байт=32 время=47мс TTL=57\r\n",
      "Ответ от 77.88.55.60: число байт=32 время=47мс TTL=57\r\n",
      "Ответ от 77.88.55.60: число байт=32 время=48мс TTL=57\r\n",
      "\r\n",
      "Статистика Ping для 77.88.55.60:\r\n",
      "    Пакетов: отправлено = 4, получено = 4, потеряно = 0\r\n",
      "    (0% потерь)\r\n",
      "Приблизительное время приема-передачи в мс:\r\n",
      "    Минимальное = 47мсек, Максимальное = 48 мсек, Среднее = 47 мсек\r\n",
      "\n"
     ]
    }
   ],
   "source": [
    "print(ping_results.decode(chardet.detect(ping_results)[\"encoding\"]))"
   ]
  },
  {
   "cell_type": "code",
   "execution_count": null,
   "metadata": {},
   "outputs": [],
   "source": []
  },
  {
   "cell_type": "code",
   "execution_count": null,
   "metadata": {},
   "outputs": [],
   "source": []
  },
  {
   "cell_type": "code",
   "execution_count": null,
   "metadata": {},
   "outputs": [],
   "source": []
  },
  {
   "cell_type": "markdown",
   "metadata": {},
   "source": [
    "#### 6. Создать текстовый файл test_file.txt, заполнить его тремя строками: «сетевое программирование», «сокет», «декоратор». Проверить кодировку файла по умолчанию. Принудительно открыть файл в формате Unicode и вывести его содержимое."
   ]
  },
  {
   "cell_type": "code",
   "execution_count": 21,
   "metadata": {},
   "outputs": [],
   "source": [
    "with open(\"test_file.txt\", \"wt\") as file:\n",
    "    file.write(\"\\n\".join([\"сетевое программирование\", \"сокет\", \"декоратор\"]))"
   ]
  },
  {
   "cell_type": "code",
   "execution_count": 22,
   "metadata": {},
   "outputs": [
    {
     "name": "stdout",
     "output_type": "stream",
     "text": [
      "{'encoding': 'windows-1251', 'confidence': 0.9929305516756276, 'language': 'Russian'}\n"
     ]
    }
   ],
   "source": [
    "with open(\"test_file.txt\", \"rb\") as file:\n",
    "    print(chardet.detect(file.read()))"
   ]
  },
  {
   "cell_type": "code",
   "execution_count": 23,
   "metadata": {},
   "outputs": [
    {
     "ename": "UnicodeDecodeError",
     "evalue": "'utf-8' codec can't decode byte 0xf1 in position 0: invalid continuation byte",
     "output_type": "error",
     "traceback": [
      "\u001b[1;31m---------------------------------------------------------------------------\u001b[0m",
      "\u001b[1;31mUnicodeDecodeError\u001b[0m                        Traceback (most recent call last)",
      "\u001b[1;32m<ipython-input-23-e3d0fdc35cdd>\u001b[0m in \u001b[0;36m<module>\u001b[1;34m\u001b[0m\n\u001b[0;32m      1\u001b[0m \u001b[1;32mwith\u001b[0m \u001b[0mopen\u001b[0m\u001b[1;33m(\u001b[0m\u001b[1;34m\"test_file.txt\"\u001b[0m\u001b[1;33m,\u001b[0m \u001b[1;34m\"rt\"\u001b[0m\u001b[1;33m,\u001b[0m \u001b[0mencoding\u001b[0m\u001b[1;33m=\u001b[0m\u001b[1;34m\"utf-8\"\u001b[0m\u001b[1;33m)\u001b[0m \u001b[1;32mas\u001b[0m \u001b[0mfile\u001b[0m\u001b[1;33m:\u001b[0m\u001b[1;33m\u001b[0m\u001b[1;33m\u001b[0m\u001b[0m\n\u001b[1;32m----> 2\u001b[1;33m     \u001b[0mprint\u001b[0m\u001b[1;33m(\u001b[0m\u001b[0mfile\u001b[0m\u001b[1;33m.\u001b[0m\u001b[0mread\u001b[0m\u001b[1;33m(\u001b[0m\u001b[1;33m)\u001b[0m\u001b[1;33m)\u001b[0m\u001b[1;33m\u001b[0m\u001b[1;33m\u001b[0m\u001b[0m\n\u001b[0m",
      "\u001b[1;32m~\\Anaconda3\\lib\\codecs.py\u001b[0m in \u001b[0;36mdecode\u001b[1;34m(self, input, final)\u001b[0m\n\u001b[0;32m    320\u001b[0m         \u001b[1;31m# decode input (taking the buffer into account)\u001b[0m\u001b[1;33m\u001b[0m\u001b[1;33m\u001b[0m\u001b[1;33m\u001b[0m\u001b[0m\n\u001b[0;32m    321\u001b[0m         \u001b[0mdata\u001b[0m \u001b[1;33m=\u001b[0m \u001b[0mself\u001b[0m\u001b[1;33m.\u001b[0m\u001b[0mbuffer\u001b[0m \u001b[1;33m+\u001b[0m \u001b[0minput\u001b[0m\u001b[1;33m\u001b[0m\u001b[1;33m\u001b[0m\u001b[0m\n\u001b[1;32m--> 322\u001b[1;33m         \u001b[1;33m(\u001b[0m\u001b[0mresult\u001b[0m\u001b[1;33m,\u001b[0m \u001b[0mconsumed\u001b[0m\u001b[1;33m)\u001b[0m \u001b[1;33m=\u001b[0m \u001b[0mself\u001b[0m\u001b[1;33m.\u001b[0m\u001b[0m_buffer_decode\u001b[0m\u001b[1;33m(\u001b[0m\u001b[0mdata\u001b[0m\u001b[1;33m,\u001b[0m \u001b[0mself\u001b[0m\u001b[1;33m.\u001b[0m\u001b[0merrors\u001b[0m\u001b[1;33m,\u001b[0m \u001b[0mfinal\u001b[0m\u001b[1;33m)\u001b[0m\u001b[1;33m\u001b[0m\u001b[1;33m\u001b[0m\u001b[0m\n\u001b[0m\u001b[0;32m    323\u001b[0m         \u001b[1;31m# keep undecoded input until the next call\u001b[0m\u001b[1;33m\u001b[0m\u001b[1;33m\u001b[0m\u001b[1;33m\u001b[0m\u001b[0m\n\u001b[0;32m    324\u001b[0m         \u001b[0mself\u001b[0m\u001b[1;33m.\u001b[0m\u001b[0mbuffer\u001b[0m \u001b[1;33m=\u001b[0m \u001b[0mdata\u001b[0m\u001b[1;33m[\u001b[0m\u001b[0mconsumed\u001b[0m\u001b[1;33m:\u001b[0m\u001b[1;33m]\u001b[0m\u001b[1;33m\u001b[0m\u001b[1;33m\u001b[0m\u001b[0m\n",
      "\u001b[1;31mUnicodeDecodeError\u001b[0m: 'utf-8' codec can't decode byte 0xf1 in position 0: invalid continuation byte"
     ]
    }
   ],
   "source": [
    "with open(\"test_file.txt\", \"rt\", encoding=\"utf-8\") as file:\n",
    "    print(file.read())"
   ]
  },
  {
   "cell_type": "code",
   "execution_count": null,
   "metadata": {},
   "outputs": [],
   "source": []
  }
 ],
 "metadata": {
  "kernelspec": {
   "display_name": "Python 3",
   "language": "python",
   "name": "python3"
  },
  "language_info": {
   "codemirror_mode": {
    "name": "ipython",
    "version": 3
   },
   "file_extension": ".py",
   "mimetype": "text/x-python",
   "name": "python",
   "nbconvert_exporter": "python",
   "pygments_lexer": "ipython3",
   "version": "3.7.1"
  }
 },
 "nbformat": 4,
 "nbformat_minor": 2
}
