{
 "cells": [
  {
   "cell_type": "code",
   "execution_count": 32,
   "metadata": {},
   "outputs": [],
   "source": [
    "from functools import wraps"
   ]
  },
  {
   "cell_type": "code",
   "execution_count": 1,
   "metadata": {},
   "outputs": [],
   "source": [
    "text = 'test text'\n",
    "\n",
    "def sample():\n",
    "    return text"
   ]
  },
  {
   "cell_type": "code",
   "execution_count": 2,
   "metadata": {},
   "outputs": [
    {
     "data": {
      "text/plain": [
       "'test text'"
      ]
     },
     "execution_count": 2,
     "metadata": {},
     "output_type": "execute_result"
    }
   ],
   "source": [
    "sample()"
   ]
  },
  {
   "cell_type": "code",
   "execution_count": 3,
   "metadata": {},
   "outputs": [],
   "source": [
    "text = 'new text'"
   ]
  },
  {
   "cell_type": "code",
   "execution_count": 4,
   "metadata": {},
   "outputs": [
    {
     "data": {
      "text/plain": [
       "'new text'"
      ]
     },
     "execution_count": 4,
     "metadata": {},
     "output_type": "execute_result"
    }
   ],
   "source": [
    "sample()"
   ]
  },
  {
   "cell_type": "code",
   "execution_count": 5,
   "metadata": {},
   "outputs": [],
   "source": [
    "class Sample():\n",
    "    def __init__(self):\n",
    "        self._text = 'test'\n",
    "        \n",
    "    def sample(self):\n",
    "        return self._text"
   ]
  },
  {
   "cell_type": "code",
   "execution_count": 6,
   "metadata": {},
   "outputs": [
    {
     "data": {
      "text/plain": [
       "'sample'"
      ]
     },
     "execution_count": 6,
     "metadata": {},
     "output_type": "execute_result"
    }
   ],
   "source": [
    "def sample(text:str, num:int):\n",
    "    return text * num\n",
    "\n",
    "sample('test', 3)\n",
    "sample.__name__"
   ]
  },
  {
   "cell_type": "code",
   "execution_count": 7,
   "metadata": {},
   "outputs": [],
   "source": [
    "def logged(func):\n",
    "    def wrapper(text:str, num:int):\n",
    "        return func(text, num)\n",
    "    return wrapper"
   ]
  },
  {
   "cell_type": "code",
   "execution_count": 8,
   "metadata": {},
   "outputs": [],
   "source": [
    "@logged\n",
    "def sample(text:str, num:int):\n",
    "    return text * num"
   ]
  },
  {
   "cell_type": "code",
   "execution_count": 9,
   "metadata": {},
   "outputs": [
    {
     "data": {
      "text/plain": [
       "'testtesttest'"
      ]
     },
     "execution_count": 9,
     "metadata": {},
     "output_type": "execute_result"
    }
   ],
   "source": [
    "sample('test', 3)"
   ]
  },
  {
   "cell_type": "code",
   "execution_count": 10,
   "metadata": {},
   "outputs": [
    {
     "data": {
      "text/plain": [
       "'wrapper'"
      ]
     },
     "execution_count": 10,
     "metadata": {},
     "output_type": "execute_result"
    }
   ],
   "source": [
    "sample.__name__"
   ]
  },
  {
   "cell_type": "code",
   "execution_count": 11,
   "metadata": {},
   "outputs": [],
   "source": [
    "def sample(text:str, num:int):\n",
    "    return text * num\n",
    "\n",
    "def logged(func):\n",
    "    def wrapper(text:str, num:int):\n",
    "        return func(text, num)\n",
    "    return wrapper\n",
    "\n",
    "sample = logged(sample)"
   ]
  },
  {
   "cell_type": "code",
   "execution_count": 12,
   "metadata": {},
   "outputs": [
    {
     "data": {
      "text/plain": [
       "'wrapper'"
      ]
     },
     "execution_count": 12,
     "metadata": {},
     "output_type": "execute_result"
    }
   ],
   "source": [
    "sample.__name__"
   ]
  },
  {
   "cell_type": "code",
   "execution_count": 13,
   "metadata": {},
   "outputs": [
    {
     "data": {
      "text/plain": [
       "'testtesttest'"
      ]
     },
     "execution_count": 13,
     "metadata": {},
     "output_type": "execute_result"
    }
   ],
   "source": [
    "sample('test', 3)"
   ]
  },
  {
   "cell_type": "code",
   "execution_count": 14,
   "metadata": {},
   "outputs": [],
   "source": [
    "def logged(func):\n",
    "    def wrapper(text:str, num:int):\n",
    "        result = func(text, num)\n",
    "        print(f'function: {func.__name__} - args: {text, num} - result: {result}')\n",
    "        return result\n",
    "    return wrapper"
   ]
  },
  {
   "cell_type": "code",
   "execution_count": 15,
   "metadata": {},
   "outputs": [],
   "source": [
    "@logged\n",
    "def sample(text:str, num:int):\n",
    "    return text * num"
   ]
  },
  {
   "cell_type": "code",
   "execution_count": 16,
   "metadata": {},
   "outputs": [
    {
     "name": "stdout",
     "output_type": "stream",
     "text": [
      "function: sample - args: ('123', 3) - result: 123123123\n"
     ]
    },
    {
     "data": {
      "text/plain": [
       "'123123123'"
      ]
     },
     "execution_count": 16,
     "metadata": {},
     "output_type": "execute_result"
    }
   ],
   "source": [
    "sample('123', 3)"
   ]
  },
  {
   "cell_type": "code",
   "execution_count": 17,
   "metadata": {},
   "outputs": [],
   "source": [
    "def delimited(func):\n",
    "    def wrapper(text:str, num:int):\n",
    "        print(\"\\n\", '*'*50, \"\\n\")\n",
    "        return func(text, num)\n",
    "    return wrapper"
   ]
  },
  {
   "cell_type": "code",
   "execution_count": 18,
   "metadata": {},
   "outputs": [],
   "source": [
    "@delimited\n",
    "@logged\n",
    "def sample(text:str, num:int):\n",
    "    return text * num"
   ]
  },
  {
   "cell_type": "code",
   "execution_count": 19,
   "metadata": {},
   "outputs": [
    {
     "name": "stdout",
     "output_type": "stream",
     "text": [
      "\n",
      " ************************************************** \n",
      "\n",
      "function: sample - args: ('jopa', 6) - result: jopajopajopajopajopajopa\n",
      "\n",
      " ************************************************** \n",
      "\n",
      "function: sample - args: ('jopa', 6) - result: jopajopajopajopajopajopa\n",
      "\n",
      " ************************************************** \n",
      "\n",
      "function: sample - args: ('jopa', 6) - result: jopajopajopajopajopajopa\n"
     ]
    },
    {
     "data": {
      "text/plain": [
       "'jopajopajopajopajopajopa'"
      ]
     },
     "execution_count": 19,
     "metadata": {},
     "output_type": "execute_result"
    }
   ],
   "source": [
    "sample('jopa', 6)\n",
    "sample('jopa', 6)\n",
    "sample('jopa', 6)"
   ]
  },
  {
   "cell_type": "code",
   "execution_count": 20,
   "metadata": {},
   "outputs": [
    {
     "name": "stdout",
     "output_type": "stream",
     "text": [
      "\n",
      " ************************************************** \n",
      "\n",
      "function: wrapper - args: ('123', 2) - result: 123123\n",
      "\n",
      " ************************************************** \n",
      "\n",
      "function: wrapper - args: ('123', 2) - result: 123123\n",
      "\n",
      " ************************************************** \n",
      "\n",
      "function: wrapper - args: ('123', 2) - result: 123123\n"
     ]
    },
    {
     "data": {
      "text/plain": [
       "'123123'"
      ]
     },
     "execution_count": 20,
     "metadata": {},
     "output_type": "execute_result"
    }
   ],
   "source": [
    "@logged\n",
    "@delimited\n",
    "def sample(text:str, num:int):\n",
    "    return text * num\n",
    "\n",
    "sample('123', 2)\n",
    "sample('123', 2)\n",
    "sample('123', 2)"
   ]
  },
  {
   "cell_type": "code",
   "execution_count": 22,
   "metadata": {},
   "outputs": [
    {
     "name": "stdout",
     "output_type": "stream",
     "text": [
      "\n",
      " ************************************************** \n",
      "\n",
      "function: wrapper - args: ('test', 3) - result: testtesttest\n",
      "\n",
      " ************************************************** \n",
      "\n",
      "function: wrapper - args: ('test', 3) - result: testtesttest\n",
      "\n",
      " ************************************************** \n",
      "\n",
      "function: wrapper - args: ('test', 3) - result: testtesttest\n"
     ]
    },
    {
     "data": {
      "text/plain": [
       "'testtesttest'"
      ]
     },
     "execution_count": 22,
     "metadata": {},
     "output_type": "execute_result"
    }
   ],
   "source": [
    "def sample(text:str, num:int):\n",
    "    return text * num\n",
    "\n",
    "sample = delimited(sample)\n",
    "sample = logged(sample)\n",
    "\n",
    "sample('test',3)\n",
    "sample('test',3)\n",
    "sample('test',3)"
   ]
  },
  {
   "cell_type": "code",
   "execution_count": 23,
   "metadata": {},
   "outputs": [
    {
     "name": "stdout",
     "output_type": "stream",
     "text": [
      "\n",
      " ************************************************** \n",
      "\n",
      "function: sample - args: ('test', 3) - result: testtesttest\n",
      "\n",
      " ************************************************** \n",
      "\n",
      "function: sample - args: ('test', 3) - result: testtesttest\n",
      "\n",
      " ************************************************** \n",
      "\n",
      "function: sample - args: ('test', 3) - result: testtesttest\n"
     ]
    },
    {
     "data": {
      "text/plain": [
       "'testtesttest'"
      ]
     },
     "execution_count": 23,
     "metadata": {},
     "output_type": "execute_result"
    }
   ],
   "source": [
    "def sample(text:str, num:int):\n",
    "    return text * num\n",
    "\n",
    "sample = logged(sample)\n",
    "sample = delimited(sample)\n",
    "\n",
    "sample('test',3)\n",
    "sample('test',3)\n",
    "sample('test',3)"
   ]
  },
  {
   "cell_type": "code",
   "execution_count": 24,
   "metadata": {},
   "outputs": [],
   "source": [
    "def logged(log_format):\n",
    "    def decorator(func):\n",
    "        def wrapper(*args, **kwargs):\n",
    "            result = func(*args, **kwargs)\n",
    "            print(\n",
    "                log_format % {\"name\": func.__name__, 'args': args, 'kwargs': kwargs, 'result': result}\n",
    "            )\n",
    "            return result\n",
    "        return wrapper\n",
    "    return decorator"
   ]
  },
  {
   "cell_type": "code",
   "execution_count": 28,
   "metadata": {},
   "outputs": [
    {
     "name": "stdout",
     "output_type": "stream",
     "text": [
      "func: sample - args: ('test', 3) - result: testtesttest\n",
      "func: sample - args: ('test', 3) - result: testtesttest\n",
      "func: sample - args: ('test', 3) - result: testtesttest\n"
     ]
    },
    {
     "data": {
      "text/plain": [
       "'testtesttest'"
      ]
     },
     "execution_count": 28,
     "metadata": {},
     "output_type": "execute_result"
    }
   ],
   "source": [
    "@logged('func: %(name)s - args: %(args)s - result: %(result)s')\n",
    "def sample(text:str, num:int):\n",
    "    return text * num\n",
    "\n",
    "sample('test', 3)\n",
    "sample('test', 3)\n",
    "sample('test', 3)"
   ]
  },
  {
   "cell_type": "code",
   "execution_count": 29,
   "metadata": {},
   "outputs": [
    {
     "name": "stdout",
     "output_type": "stream",
     "text": [
      "sample = testtesttest\n",
      "sample = testtesttest\n",
      "sample = testtesttest\n"
     ]
    },
    {
     "data": {
      "text/plain": [
       "'testtesttest'"
      ]
     },
     "execution_count": 29,
     "metadata": {},
     "output_type": "execute_result"
    }
   ],
   "source": [
    "@logged('%(name)s = %(result)s')\n",
    "def sample(text:str, num:int):\n",
    "    return text * num\n",
    "\n",
    "sample('test', 3)\n",
    "sample('test', 3)\n",
    "sample('test', 3)"
   ]
  },
  {
   "cell_type": "code",
   "execution_count": 33,
   "metadata": {},
   "outputs": [],
   "source": [
    "def logged(log_format):\n",
    "    def decorator(func):\n",
    "        @wraps(func)\n",
    "        def wrapper(*args, **kwargs):\n",
    "            result = func(*args, **kwargs)\n",
    "            print(\n",
    "                log_format % {\"name\": func.__name__, 'args': args, 'kwargs': kwargs, 'result': result}\n",
    "            )\n",
    "            return result\n",
    "        return wrapper\n",
    "    return decorator"
   ]
  },
  {
   "cell_type": "code",
   "execution_count": 34,
   "metadata": {},
   "outputs": [],
   "source": [
    "def delimited(func):\n",
    "    @wraps(func)\n",
    "    def wrapper(text:str, num:int):\n",
    "        print(\"\\n\", '*'*50, \"\\n\")\n",
    "        return func(text, num)\n",
    "    return wrapper"
   ]
  },
  {
   "cell_type": "code",
   "execution_count": 40,
   "metadata": {},
   "outputs": [
    {
     "name": "stdout",
     "output_type": "stream",
     "text": [
      "\n",
      " ************************************************** \n",
      "\n",
      "sample = testtesttest\n",
      "\n",
      " ************************************************** \n",
      "\n",
      "sample = testtesttest\n",
      "\n",
      " ************************************************** \n",
      "\n",
      "sample = testtesttest\n"
     ]
    },
    {
     "data": {
      "text/plain": [
       "'\\n    Test sample function\\n    '"
      ]
     },
     "execution_count": 40,
     "metadata": {},
     "output_type": "execute_result"
    }
   ],
   "source": [
    "@logged('%(name)s = %(result)s')\n",
    "@delimited\n",
    "def sample(text:str, num:int):\n",
    "    \"\"\"\n",
    "    Test sample function\n",
    "    \"\"\"\n",
    "    return text * num\n",
    "\n",
    "sample('test', 3)\n",
    "sample('test', 3)\n",
    "sample('test', 3)\n",
    "sample.__name__\n",
    "sample.__doc__"
   ]
  },
  {
   "cell_type": "code",
   "execution_count": null,
   "metadata": {},
   "outputs": [],
   "source": []
  }
 ],
 "metadata": {
  "kernelspec": {
   "display_name": "Python 3",
   "language": "python",
   "name": "python3"
  },
  "language_info": {
   "codemirror_mode": {
    "name": "ipython",
    "version": 3
   },
   "file_extension": ".py",
   "mimetype": "text/x-python",
   "name": "python",
   "nbconvert_exporter": "python",
   "pygments_lexer": "ipython3",
   "version": "3.7.1"
  }
 },
 "nbformat": 4,
 "nbformat_minor": 2
}
